{
 "cells": [
  {
   "cell_type": "code",
   "execution_count": 37,
   "id": "085ec111",
   "metadata": {},
   "outputs": [],
   "source": [
    "from nltk.tokenize import word_tokenize\n",
    "from nltk.stem import WordNetLemmatizer\n",
    "from nltk.corpus import stopwords\n"
   ]
  },
  {
   "cell_type": "code",
   "execution_count": 38,
   "id": "150410c2",
   "metadata": {},
   "outputs": [],
   "source": [
    "paragraph =  \"\"\"It is time we see ourselves as a developed nation. We are among the top 5 nations of the world\n",
    "               in terms of GDP.\"\"\""
   ]
  },
  {
   "cell_type": "code",
   "execution_count": 39,
   "id": "562b670c",
   "metadata": {},
   "outputs": [],
   "source": [
    "# Tokenizing sentences\n",
    "sentences = nltk.sent_tokenize(paragraph)"
   ]
  },
  {
   "cell_type": "code",
   "execution_count": 40,
   "id": "d5a33859",
   "metadata": {},
   "outputs": [],
   "source": [
    "\n",
    "# Tokenizing words\n",
    "words = nltk.word_tokenize(paragraph)"
   ]
  },
  {
   "cell_type": "code",
   "execution_count": 41,
   "id": "198a1277",
   "metadata": {},
   "outputs": [],
   "source": [
    "stopwords = set(stopwords.words('english'))"
   ]
  },
  {
   "cell_type": "code",
   "execution_count": 42,
   "id": "0cd4fa02",
   "metadata": {},
   "outputs": [],
   "source": [
    "word_filtered = []\n",
    "for w in words:\n",
    "    if w not in stopwords:\n",
    "        word_filtered.append(w)"
   ]
  },
  {
   "cell_type": "code",
   "execution_count": 43,
   "id": "2453fbd2",
   "metadata": {},
   "outputs": [
    {
     "data": {
      "text/plain": [
       "['It',\n",
       " 'time',\n",
       " 'see',\n",
       " 'developed',\n",
       " 'nation',\n",
       " '.',\n",
       " 'We',\n",
       " 'among',\n",
       " 'top',\n",
       " '5',\n",
       " 'nations',\n",
       " 'world',\n",
       " 'terms',\n",
       " 'GDP',\n",
       " '.']"
      ]
     },
     "execution_count": 43,
     "metadata": {},
     "output_type": "execute_result"
    }
   ],
   "source": [
    "word_filtered"
   ]
  },
  {
   "cell_type": "code",
   "execution_count": null,
   "id": "3a900224",
   "metadata": {},
   "outputs": [],
   "source": []
  }
 ],
 "metadata": {
  "kernelspec": {
   "display_name": "Python 3 (ipykernel)",
   "language": "python",
   "name": "python3"
  },
  "language_info": {
   "codemirror_mode": {
    "name": "ipython",
    "version": 3
   },
   "file_extension": ".py",
   "mimetype": "text/x-python",
   "name": "python",
   "nbconvert_exporter": "python",
   "pygments_lexer": "ipython3",
   "version": "3.7.6"
  }
 },
 "nbformat": 4,
 "nbformat_minor": 5
}
