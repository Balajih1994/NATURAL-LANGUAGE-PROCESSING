{
 "cells": [
  {
   "cell_type": "code",
   "execution_count": 85,
   "id": "085ec111",
   "metadata": {},
   "outputs": [],
   "source": [
    "from nltk.tokenize import word_tokenize\n",
    "from nltk.stem import WordNetLemmatizer\n",
    "from nltk.corpus import stopwords\n",
    "import re\n"
   ]
  },
  {
   "cell_type": "code",
   "execution_count": 119,
   "id": "150410c2",
   "metadata": {},
   "outputs": [],
   "source": [
    "paragraph =  \"\"\"It is time we see ourselves as a developed nation. We are among the top 5 nations of the world\n",
    "               in terms of developed nation. GDP .\"\"\""
   ]
  },
  {
   "cell_type": "markdown",
   "id": "06560d1c",
   "metadata": {},
   "source": [
    "# COLLOCATION\n"
   ]
  },
  {
   "cell_type": "markdown",
   "id": "6d3128d9",
   "metadata": {},
   "source": [
    "### bigram - combination two words\n",
    "### Trigram - combination three words"
   ]
  },
  {
   "cell_type": "code",
   "execution_count": 120,
   "id": "68b38c70",
   "metadata": {},
   "outputs": [],
   "source": [
    "wordlist = paragraph.split()"
   ]
  },
  {
   "cell_type": "code",
   "execution_count": 121,
   "id": "e001f3d7",
   "metadata": {},
   "outputs": [],
   "source": [
    "bigram_fd = nltk.FreqDist(nltk.bigrams(wordlist))"
   ]
  },
  {
   "cell_type": "code",
   "execution_count": 122,
   "id": "d455c116",
   "metadata": {},
   "outputs": [
    {
     "data": {
      "text/plain": [
       "FreqDist({('developed', 'nation.'): 2, ('It', 'is'): 1, ('is', 'time'): 1, ('time', 'we'): 1, ('we', 'see'): 1, ('see', 'ourselves'): 1, ('ourselves', 'as'): 1, ('as', 'a'): 1, ('a', 'developed'): 1, ('nation.', 'We'): 1, ...})"
      ]
     },
     "execution_count": 122,
     "metadata": {},
     "output_type": "execute_result"
    }
   ],
   "source": [
    "bigram_fd"
   ]
  },
  {
   "cell_type": "code",
   "execution_count": null,
   "id": "4ec2d6fe",
   "metadata": {},
   "outputs": [],
   "source": []
  },
  {
   "cell_type": "code",
   "execution_count": 123,
   "id": "5b7d057d",
   "metadata": {},
   "outputs": [
    {
     "name": "stdout",
     "output_type": "stream",
     "text": [
      "[(('developed', 'nation.'), 2), (('It', 'is'), 1), (('is', 'time'), 1), (('time', 'we'), 1), (('we', 'see'), 1), (('see', 'ourselves'), 1), (('ourselves', 'as'), 1), (('as', 'a'), 1), (('a', 'developed'), 1), (('nation.', 'We'), 1), (('We', 'are'), 1), (('are', 'among'), 1), (('among', 'the'), 1), (('the', 'top'), 1), (('top', '5'), 1), (('5', 'nations'), 1), (('nations', 'of'), 1), (('of', 'the'), 1), (('the', 'world'), 1), (('world', 'in'), 1), (('in', 'terms'), 1), (('terms', 'of'), 1), (('of', 'developed'), 1), (('nation.', 'GDP'), 1), (('GDP', '.'), 1)]\n"
     ]
    }
   ],
   "source": [
    "print(bigram_fd.most_common())"
   ]
  },
  {
   "cell_type": "code",
   "execution_count": 124,
   "id": "1697e200",
   "metadata": {},
   "outputs": [
    {
     "data": {
      "text/plain": [
       "[(('developed', 'nation.'), 2),\n",
       " (('It', 'is'), 1),\n",
       " (('is', 'time'), 1),\n",
       " (('time', 'we'), 1),\n",
       " (('we', 'see'), 1),\n",
       " (('see', 'ourselves'), 1),\n",
       " (('ourselves', 'as'), 1),\n",
       " (('as', 'a'), 1),\n",
       " (('a', 'developed'), 1),\n",
       " (('nation.', 'We'), 1),\n",
       " (('We', 'are'), 1),\n",
       " (('are', 'among'), 1),\n",
       " (('among', 'the'), 1),\n",
       " (('the', 'top'), 1),\n",
       " (('top', '5'), 1),\n",
       " (('5', 'nations'), 1),\n",
       " (('nations', 'of'), 1),\n",
       " (('of', 'the'), 1),\n",
       " (('the', 'world'), 1),\n",
       " (('world', 'in'), 1),\n",
       " (('in', 'terms'), 1),\n",
       " (('terms', 'of'), 1),\n",
       " (('of', 'developed'), 1),\n",
       " (('nation.', 'GDP'), 1),\n",
       " (('GDP', '.'), 1)]"
      ]
     },
     "execution_count": 124,
     "metadata": {},
     "output_type": "execute_result"
    }
   ],
   "source": [
    "bigram_fd.most_common()"
   ]
  },
  {
   "cell_type": "code",
   "execution_count": 126,
   "id": "da35151c",
   "metadata": {},
   "outputs": [
    {
     "data": {
      "text/plain": [
       "(('developed', 'nation.'), 2)"
      ]
     },
     "execution_count": 126,
     "metadata": {},
     "output_type": "execute_result"
    }
   ],
   "source": [
    "bigram_fd.most_common()[0]"
   ]
  },
  {
   "cell_type": "code",
   "execution_count": null,
   "id": "c1ea0db5",
   "metadata": {},
   "outputs": [],
   "source": []
  }
 ],
 "metadata": {
  "kernelspec": {
   "display_name": "Python 3 (ipykernel)",
   "language": "python",
   "name": "python3"
  },
  "language_info": {
   "codemirror_mode": {
    "name": "ipython",
    "version": 3
   },
   "file_extension": ".py",
   "mimetype": "text/x-python",
   "name": "python",
   "nbconvert_exporter": "python",
   "pygments_lexer": "ipython3",
   "version": "3.7.6"
  }
 },
 "nbformat": 4,
 "nbformat_minor": 5
}
